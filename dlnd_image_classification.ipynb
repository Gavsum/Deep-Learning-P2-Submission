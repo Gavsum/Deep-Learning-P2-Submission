{
 "cells": [
  {
   "cell_type": "markdown",
   "metadata": {
    "collapsed": true
   },
   "source": [
    "# Image Classification\n",
    "In this project, you'll classify images from the [CIFAR-10 dataset](https://www.cs.toronto.edu/~kriz/cifar.html).  The dataset consists of airplanes, dogs, cats, and other objects. You'll preprocess the images, then train a convolutional neural network on all the samples. The images need to be normalized and the labels need to be one-hot encoded.  You'll get to apply what you learned and build a convolutional, max pooling, dropout, and fully connected layers.  At the end, you'll get to see your neural network's predictions on the sample images.\n",
    "## Get the Data\n",
    "Run the following cell to download the [CIFAR-10 dataset for python](https://www.cs.toronto.edu/~kriz/cifar-10-python.tar.gz)."
   ]
  },
  {
   "cell_type": "code",
   "execution_count": 1,
   "metadata": {},
   "outputs": [
    {
     "name": "stdout",
     "output_type": "stream",
     "text": [
      "All files found!\n"
     ]
    }
   ],
   "source": [
    "\"\"\"\n",
    "DON'T MODIFY ANYTHING IN THIS CELL THAT IS BELOW THIS LINE\n",
    "\"\"\"\n",
    "from urllib.request import urlretrieve\n",
    "from os.path import isfile, isdir\n",
    "from tqdm import tqdm\n",
    "import problem_unittests as tests\n",
    "import tarfile\n",
    "\n",
    "cifar10_dataset_folder_path = 'cifar-10-batches-py'\n",
    "\n",
    "# Use Floyd's cifar-10 dataset if present\n",
    "floyd_cifar10_location = '/input/cifar-10/python.tar.gz'\n",
    "if isfile(floyd_cifar10_location):\n",
    "    tar_gz_path = floyd_cifar10_location\n",
    "else:\n",
    "    tar_gz_path = 'cifar-10-python.tar.gz'\n",
    "\n",
    "class DLProgress(tqdm):\n",
    "    last_block = 0\n",
    "\n",
    "    def hook(self, block_num=1, block_size=1, total_size=None):\n",
    "        self.total = total_size\n",
    "        self.update((block_num - self.last_block) * block_size)\n",
    "        self.last_block = block_num\n",
    "\n",
    "if not isfile(tar_gz_path):\n",
    "    with DLProgress(unit='B', unit_scale=True, miniters=1, desc='CIFAR-10 Dataset') as pbar:\n",
    "        urlretrieve(\n",
    "            'https://www.cs.toronto.edu/~kriz/cifar-10-python.tar.gz',\n",
    "            tar_gz_path,\n",
    "            pbar.hook)\n",
    "\n",
    "if not isdir(cifar10_dataset_folder_path):\n",
    "    with tarfile.open(tar_gz_path) as tar:\n",
    "        tar.extractall()\n",
    "        tar.close()\n",
    "\n",
    "\n",
    "tests.test_folder_path(cifar10_dataset_folder_path)"
   ]
  },
  {
   "cell_type": "markdown",
   "metadata": {},
   "source": [
    "## Explore the Data\n",
    "The dataset is broken into batches to prevent your machine from running out of memory.  The CIFAR-10 dataset consists of 5 batches, named `data_batch_1`, `data_batch_2`, etc.. Each batch contains the labels and images that are one of the following:\n",
    "* airplane\n",
    "* automobile\n",
    "* bird\n",
    "* cat\n",
    "* deer\n",
    "* dog\n",
    "* frog\n",
    "* horse\n",
    "* ship\n",
    "* truck\n",
    "\n",
    "Understanding a dataset is part of making predictions on the data.  Play around with the code cell below by changing the `batch_id` and `sample_id`. The `batch_id` is the id for a batch (1-5). The `sample_id` is the id for a image and label pair in the batch.\n",
    "\n",
    "Ask yourself \"What are all possible labels?\", \"What is the range of values for the image data?\", \"Are the labels in order or random?\".  Answers to questions like these will help you preprocess the data and end up with better predictions."
   ]
  },
  {
   "cell_type": "code",
   "execution_count": 2,
   "metadata": {},
   "outputs": [
    {
     "name": "stdout",
     "output_type": "stream",
     "text": [
      "\n",
      "Stats of batch 1:\n",
      "Samples: 10000\n",
      "Label Counts: {0: 1005, 1: 974, 2: 1032, 3: 1016, 4: 999, 5: 937, 6: 1030, 7: 1001, 8: 1025, 9: 981}\n",
      "First 20 Labels: [6, 9, 9, 4, 1, 1, 2, 7, 8, 3, 4, 7, 7, 2, 9, 9, 9, 3, 2, 6]\n",
      "\n",
      "Example of Image 5:\n",
      "Image - Min Value: 0 Max Value: 252\n",
      "Image - Shape: (32, 32, 3)\n",
      "Label - Label Id: 1 Name: automobile\n"
     ]
    },
    {
     "data": {
      "image/png": "[encoded data removed]",
      "text/plain": [
       "<matplotlib.figure.Figure at 0x7f17acdcf470>"
      ]
     },
     "metadata": {
      "image/png": {
       "height": 250,
       "width": 253
      }
     },
     "output_type": "display_data"
    }
   ],
   "source": [
    "%matplotlib inline\n",
    "%config InlineBackend.figure_format = 'retina'\n",
    "\n",
    "import helper\n",
    "import numpy as np\n",
    "\n",
    "# Explore the dataset\n",
    "batch_id = 1\n",
    "sample_id = 5\n",
    "helper.display_stats(cifar10_dataset_folder_path, batch_id, sample_id)"
   ]
  },
  {
   "cell_type": "markdown",
   "metadata": {},
   "source": [
    "## Implement Preprocess Functions\n",
    "### Normalize\n",
    "In the cell below, implement the `normalize` function to take in image data, `x`, and return it as a normalized Numpy array. The values should be in the range of 0 to 1, inclusive.  The return object should be the same shape as `x`."
   ]
  },
  {
   "cell_type": "code",
   "execution_count": 3,
   "metadata": {},
   "outputs": [
    {
     "name": "stdout",
     "output_type": "stream",
     "text": [
      "Tests Passed\n"
     ]
    }
   ],
   "source": [
    "def normalize(x):\n",
    "    \"\"\"\n",
    "    Normalize a list of sample image data in the range of 0 to 1\n",
    "    : x: List of image data.  The image shape is (32, 32, 3)\n",
    "    : return: Numpy array of normalize data\n",
    "    \"\"\"\n",
    "    # TODO: Implement Function\n",
    "    in_vals = np.array(x)\n",
    "    divisor = np.full(in_vals.shape, 256)\n",
    "    normed = np.divide(in_vals, divisor)\n",
    "\n",
    "    return normed\n",
    "\n",
    "\n",
    "\"\"\"\n",
    "DON'T MODIFY ANYTHING IN THIS CELL THAT IS BELOW THIS LINE\n",
    "\"\"\"\n",
    "tests.test_normalize(normalize)"
   ]
  },
  {
   "cell_type": "markdown",
   "metadata": {},
   "source": [
    "### One-hot encode\n",
    "Just like the previous code cell, you'll be implementing a function for preprocessing.  This time, you'll implement the `one_hot_encode` function. The input, `x`, are a list of labels.  Implement the function to return the list of labels as One-Hot encoded Numpy array.  The possible values for labels are 0 to 9. The one-hot encoding function should return the same encoding for each value between each call to `one_hot_encode`.  Make sure to save the map of encodings outside the function.\n",
    "\n",
    "Hint: Don't reinvent the wheel."
   ]
  },
  {
   "cell_type": "code",
   "execution_count": 4,
   "metadata": {},
   "outputs": [
    {
     "name": "stdout",
     "output_type": "stream",
     "text": [
      "Tests Passed\n"
     ]
    }
   ],
   "source": [
    "def one_hot_encode(x):\n",
    "    \"\"\"\n",
    "    One hot encode a list of sample labels. Return a one-hot encoded vector for each label.\n",
    "    : x: List of sample Labels\n",
    "    : return: Numpy array of one-hot encoded labels\n",
    "    \"\"\"\n",
    "    # TODO: Implement Function\n",
    "    local = np.asarray(x)\n",
    "    out_arr = np.empty([local.size, 10], dtype=object)\n",
    "\n",
    "    for i, entry in enumerate(x):\n",
    "        new_arr = [0, 0, 0, 0, 0, 0, 0, 0, 0, 0]\n",
    "        new_arr[entry] = 1\n",
    "        out_arr[i] = new_arr\n",
    "\n",
    "    return out_arr\n",
    "\n",
    "\n",
    "\"\"\"\n",
    "DON'T MODIFY ANYTHING IN THIS CELL THAT IS BELOW THIS LINE\n",
    "\"\"\"\n",
    "tests.test_one_hot_encode(one_hot_encode)"
   ]
  },
  {
   "cell_type": "markdown",
   "metadata": {},
   "source": [
    "### Randomize Data\n",
    "As you saw from exploring the data above, the order of the samples are randomized.  It doesn't hurt to randomize it again, but you don't need to for this dataset."
   ]
  },
  {
   "cell_type": "markdown",
   "metadata": {},
   "source": [
    "## Preprocess all the data and save it\n",
    "Running the code cell below will preprocess all the CIFAR-10 data and save it to file. The code below also uses 10% of the training data for validation."
   ]
  },
  {
   "cell_type": "code",
   "execution_count": 5,
   "metadata": {},
   "outputs": [],
   "source": [
    "\"\"\"\n",
    "DON'T MODIFY ANYTHING IN THIS CELL\n",
    "\"\"\"\n",
    "# Preprocess Training, Validation, and Testing Data\n",
    "helper.preprocess_and_save_data(cifar10_dataset_folder_path, normalize, one_hot_encode)"
   ]
  },
  {
   "cell_type": "markdown",
   "metadata": {},
   "source": [
    "# Check Point\n",
    "This is your first checkpoint.  If you ever decide to come back to this notebook or have to restart the notebook, you can start from here.  The preprocessed data has been saved to disk."
   ]
  },
  {
   "cell_type": "code",
   "execution_count": 6,
   "metadata": {
    "collapsed": true
   },
   "outputs": [],
   "source": [
    "\"\"\"\n",
    "DON'T MODIFY ANYTHING IN THIS CELL\n",
    "\"\"\"\n",
    "import pickle\n",
    "import problem_unittests as tests\n",
    "import helper\n",
    "\n",
    "# Load the Preprocessed Validation data\n",
    "valid_features, valid_labels = pickle.load(open('preprocess_validation.p', mode='rb'))"
   ]
  },
  {
   "cell_type": "markdown",
   "metadata": {},
   "source": [
    "## Build the network\n",
    "For the neural network, you'll build each layer into a function.  Most of the code you've seen has been outside of functions. To test your code more thoroughly, we require that you put each layer in a function.  This allows us to give you better feedback and test for simple mistakes using our unittests before you submit your project.\n",
    "\n",
    ">**Note:** If you're finding it hard to dedicate enough time for this course each week, we've provided a small shortcut to this part of the project. In the next couple of problems, you'll have the option to use classes from the [TensorFlow Layers](https://www.tensorflow.org/api_docs/python/tf/layers) or [TensorFlow Layers (contrib)](https://www.tensorflow.org/api_guides/python/contrib.layers) packages to build each layer, except the layers you build in the \"Convolutional and Max Pooling Layer\" section.  TF Layers is similar to Keras's and TFLearn's abstraction to layers, so it's easy to pickup.\n",
    "\n",
    ">However, if you would like to get the most out of this course, try to solve all the problems _without_ using anything from the TF Layers packages. You **can** still use classes from other packages that happen to have the same name as ones you find in TF Layers! For example, instead of using the TF Layers version of the `conv2d` class, [tf.layers.conv2d](https://www.tensorflow.org/api_docs/python/tf/layers/conv2d), you would want to use the TF Neural Network version of `conv2d`, [tf.nn.conv2d](https://www.tensorflow.org/api_docs/python/tf/nn/conv2d). \n",
    "\n",
    "Let's begin!\n",
    "\n",
    "### Input\n",
    "The neural network needs to read the image data, one-hot encoded labels, and dropout keep probability. Implement the following functions\n",
    "* Implement `neural_net_image_input`\n",
    " * Return a [TF Placeholder](https://www.tensorflow.org/api_docs/python/tf/placeholder)\n",
    " * Set the shape using `image_shape` with batch size set to `None`.\n",
    " * Name the TensorFlow placeholder \"x\" using the TensorFlow `name` parameter in the [TF Placeholder](https://www.tensorflow.org/api_docs/python/tf/placeholder).\n",
    "* Implement `neural_net_label_input`\n",
    " * Return a [TF Placeholder](https://www.tensorflow.org/api_docs/python/tf/placeholder)\n",
    " * Set the shape using `n_classes` with batch size set to `None`.\n",
    " * Name the TensorFlow placeholder \"y\" using the TensorFlow `name` parameter in the [TF Placeholder](https://www.tensorflow.org/api_docs/python/tf/placeholder).\n",
    "* Implement `neural_net_keep_prob_input`\n",
    " * Return a [TF Placeholder](https://www.tensorflow.org/api_docs/python/tf/placeholder) for dropout keep probability.\n",
    " * Name the TensorFlow placeholder \"keep_prob\" using the TensorFlow `name` parameter in the [TF Placeholder](https://www.tensorflow.org/api_docs/python/tf/placeholder).\n",
    "\n",
    "These names will be used at the end of the project to load your saved model.\n",
    "\n",
    "Note: `None` for shapes in TensorFlow allow for a dynamic size."
   ]
  },
  {
   "cell_type": "code",
   "execution_count": 7,
   "metadata": {},
   "outputs": [
    {
     "name": "stdout",
     "output_type": "stream",
     "text": [
      "Image Input Tests Passed.\n",
      "Label Input Tests Passed.\n",
      "Keep Prob Tests Passed.\n"
     ]
    }
   ],
   "source": [
    "import tensorflow as tf\n",
    "\n",
    "# Return a tensor for a batch of img input\n",
    "def neural_net_image_input(image_shape):\n",
    "    # Not sure if this is the best / most pythonic way to do this\n",
    "    new_shape = [None]\n",
    "    for p in image_shape:\n",
    "        new_shape.append(p)\n",
    "\n",
    "    return tf.placeholder(tf.float32, shape=new_shape, name='x')\n",
    "\n",
    "# Return a Tensor for a batch of label inputs\n",
    "\n",
    "\n",
    "def neural_net_label_input(n_classes):\n",
    "\n",
    "    label_shape = [None]\n",
    "    label_shape.append(n_classes)\n",
    "\n",
    "    tens = tf.placeholder(tf.float32, shape=label_shape, name=\"y\")\n",
    "\n",
    "    return tens\n",
    "\n",
    "# Return a Tensor for keep probability\n",
    "\n",
    "\n",
    "def neural_net_keep_prob_input():\n",
    "    keeper = tf.placeholder(tf.float32, name=\"keep_prob\")\n",
    "    return keeper\n",
    "\n",
    "\n",
    "\"\"\"\n",
    "DON'T MODIFY ANYTHING IN THIS CELL THAT IS BELOW THIS LINE\n",
    "\"\"\"\n",
    "tf.reset_default_graph()\n",
    "tests.test_nn_image_inputs(neural_net_image_input)\n",
    "tests.test_nn_label_inputs(neural_net_label_input)\n",
    "tests.test_nn_keep_prob_inputs(neural_net_keep_prob_input)"
   ]
  },
  {
   "cell_type": "markdown",
   "metadata": {},
   "source": [
    "### Convolution and Max Pooling Layer\n",
    "Convolution layers have a lot of success with images. For this code cell, you should implement the function `conv2d_maxpool` to apply convolution then max pooling:\n",
    "* Create the weight and bias using `conv_ksize`, `conv_num_outputs` and the shape of `x_tensor`.\n",
    "* Apply a convolution to `x_tensor` using weight and `conv_strides`.\n",
    " * We recommend you use same padding, but you're welcome to use any padding.\n",
    "* Add bias\n",
    "* Add a nonlinear activation to the convolution.\n",
    "* Apply Max Pooling using `pool_ksize` and `pool_strides`.\n",
    " * We recommend you use same padding, but you're welcome to use any padding.\n",
    "\n",
    "**Note:** You **can't** use [TensorFlow Layers](https://www.tensorflow.org/api_docs/python/tf/layers) or [TensorFlow Layers (contrib)](https://www.tensorflow.org/api_guides/python/contrib.layers) for **this** layer, but you can still use TensorFlow's [Neural Network](https://www.tensorflow.org/api_docs/python/tf/nn) package. You may still use the shortcut option for all the **other** layers."
   ]
  },
  {
   "cell_type": "code",
   "execution_count": 8,
   "metadata": {},
   "outputs": [
    {
     "name": "stdout",
     "output_type": "stream",
     "text": [
      "Tests Passed\n"
     ]
    }
   ],
   "source": [
    "def conv2d_maxpool(x_tensor, conv_num_outputs, conv_ksize, conv_strides, pool_ksize, pool_strides):\n",
    "    \"\"\"\n",
    "    Apply convolution then max pooling to x_tensor\n",
    "    :param x_tensor: TensorFlow Tensor\n",
    "    :param conv_num_outputs: Number of outputs for the convolutional layer\n",
    "    :param conv_ksize: kernal size 2-D Tuple for the convolutional layer\n",
    "    :param conv_strides: Stride 2-D Tuple for convolution\n",
    "    :param pool_ksize: kernal size 2-D Tuple for pool\n",
    "    :param pool_strides: Stride 2-D Tuple for pool\n",
    "    : return: A tensor that represents convolution and max pooling of x_tensor\n",
    "    \"\"\"\n",
    "    # Create weight & bias using ksize, conv_outputs, & shape of x tensor\n",
    "\n",
    "    # This may limit the shapes of input tensors that this function can accept (eg: pre defined this way)\n",
    "    # Maybe recode to be more general\n",
    "    new_shape = [\n",
    "        conv_ksize[0],\n",
    "        conv_ksize[1],\n",
    "        x_tensor.shape[3].value,\n",
    "        conv_num_outputs\n",
    "    ]\n",
    "\n",
    "    conv_format_stride = [\n",
    "        1,\n",
    "        conv_strides[0],\n",
    "        conv_strides[1],\n",
    "        1\n",
    "    ]\n",
    "\n",
    "    pool_format_stride = [\n",
    "        1,\n",
    "        pool_strides[0],\n",
    "        pool_strides[1],\n",
    "        1\n",
    "    ]\n",
    "\n",
    "    pool_format_ksize = [\n",
    "        1,\n",
    "        pool_ksize[0],\n",
    "        pool_ksize[1],\n",
    "        1\n",
    "    ]\n",
    "\n",
    "    weights = tf.Variable(tf.truncated_normal(new_shape, stddev=0.1))\n",
    "    bias = tf.Variable(tf.zeros(conv_num_outputs))\n",
    "\n",
    "    # Apply conv to x tensor using weights, stride & same padding\n",
    "    conv_out = tf.nn.conv2d(x_tensor,\n",
    "                            weights,\n",
    "                            conv_format_stride,\n",
    "                            padding=\"SAME\")\n",
    "\n",
    "    # Add bias\n",
    "    conv_out = tf.nn.bias_add(conv_out, bias)\n",
    "\n",
    "    # Add non linear activation\n",
    "    conv_out = tf.nn.relu(conv_out)\n",
    "\n",
    "    # Apply max pooling using pool size and strides + same padding\n",
    "    conv_out = tf.nn.max_pool(conv_out,\n",
    "                              pool_format_ksize,\n",
    "                              pool_format_stride,\n",
    "                              padding=\"SAME\")\n",
    "\n",
    "    return conv_out\n",
    "\n",
    "\n",
    "\"\"\"\n",
    "DON'T MODIFY ANYTHING IN THIS CELL THAT IS BELOW THIS LINE\n",
    "\"\"\"\n",
    "tests.test_con_pool(conv2d_maxpool)"
   ]
  },
  {
   "cell_type": "markdown",
   "metadata": {},
   "source": [
    "### Flatten Layer\n",
    "Implement the `flatten` function to change the dimension of `x_tensor` from a 4-D tensor to a 2-D tensor.  The output should be the shape (*Batch Size*, *Flattened Image Size*). Shortcut option: you can use classes from the [TensorFlow Layers](https://www.tensorflow.org/api_docs/python/tf/layers) or [TensorFlow Layers (contrib)](https://www.tensorflow.org/api_guides/python/contrib.layers) packages for this layer. For more of a challenge, only use other TensorFlow packages."
   ]
  },
  {
   "cell_type": "code",
   "execution_count": 9,
   "metadata": {},
   "outputs": [
    {
     "name": "stdout",
     "output_type": "stream",
     "text": [
      "Tests Passed\n"
     ]
    }
   ],
   "source": [
    "def flatten(x_tensor):\n",
    "    \"\"\"\n",
    "    Flatten x_tensor to (Batch Size, Flattened Image Size)\n",
    "    : x_tensor: A tensor of size (Batch Size, ...), where ... are the image dimensions.\n",
    "    : return: A tensor of size (Batch Size, Flattened Image Size).\n",
    "    \"\"\"\n",
    "    # TODO: Implement Function\n",
    "    shape = x_tensor.get_shape().as_list()\n",
    "    dimension = np.prod(shape[1:])\n",
    "    flattened = tf.reshape(x_tensor, [-1, dimension])\n",
    "\n",
    "    return flattened\n",
    "\n",
    "\n",
    "\"\"\"\n",
    "DON'T MODIFY ANYTHING IN THIS CELL THAT IS BELOW THIS LINE\n",
    "\"\"\"\n",
    "tests.test_flatten(flatten)"
   ]
  },
  {
   "cell_type": "markdown",
   "metadata": {},
   "source": [
    "### Fully-Connected Layer\n",
    "Implement the `fully_conn` function to apply a fully connected layer to `x_tensor` with the shape (*Batch Size*, *num_outputs*). Shortcut option: you can use classes from the [TensorFlow Layers](https://www.tensorflow.org/api_docs/python/tf/layers) or [TensorFlow Layers (contrib)](https://www.tensorflow.org/api_guides/python/contrib.layers) packages for this layer. For more of a challenge, only use other TensorFlow packages."
   ]
  },
  {
   "cell_type": "code",
   "execution_count": 10,
   "metadata": {},
   "outputs": [
    {
     "name": "stdout",
     "output_type": "stream",
     "text": [
      "Tests Passed\n"
     ]
    }
   ],
   "source": [
    "def fully_conn(x_tensor, num_outputs):\n",
    "    \"\"\"\n",
    "    Apply a fully connected layer to x_tensor using weight and bias\n",
    "    : x_tensor: A 2-D tensor where the first dimension is batch size.\n",
    "    : num_outputs: The number of output that the new tensor should be.\n",
    "    : return: A 2-D tensor where the second dimension is num_outputs.\n",
    "    \"\"\"\n",
    "    # TODO: Implement Function\n",
    "    curr_shape = x_tensor.shape.as_list()\n",
    "    weights = tf.Variable(tf.truncated_normal([curr_shape[1], num_outputs], stddev=0.1))\n",
    "\n",
    "    bias = tf.Variable(tf.zeros(num_outputs))\n",
    "\n",
    "    fc = tf.add(tf.matmul(x_tensor, weights), bias)\n",
    "\n",
    "    return tf.nn.relu(fc)\n",
    "\n",
    "\n",
    "\"\"\"\n",
    "DON'T MODIFY ANYTHING IN THIS CELL THAT IS BELOW THIS LINE\n",
    "\"\"\"\n",
    "tests.test_fully_conn(fully_conn)"
   ]
  },
  {
   "cell_type": "markdown",
   "metadata": {},
   "source": [
    "### Output Layer\n",
    "Implement the `output` function to apply a fully connected layer to `x_tensor` with the shape (*Batch Size*, *num_outputs*). Shortcut option: you can use classes from the [TensorFlow Layers](https://www.tensorflow.org/api_docs/python/tf/layers) or [TensorFlow Layers (contrib)](https://www.tensorflow.org/api_guides/python/contrib.layers) packages for this layer. For more of a challenge, only use other TensorFlow packages.\n",
    "\n",
    "**Note:** Activation, softmax, or cross entropy should **not** be applied to this."
   ]
  },
  {
   "cell_type": "code",
   "execution_count": 11,
   "metadata": {},
   "outputs": [
    {
     "name": "stdout",
     "output_type": "stream",
     "text": [
      "Tests Passed\n"
     ]
    }
   ],
   "source": [
    "def output(x_tensor, num_outputs):\n",
    "    \"\"\"\n",
    "    Apply a output layer to x_tensor using weight and bias\n",
    "    : x_tensor: A 2-D tensor where the first dimension is batch size.\n",
    "    : num_outputs: The number of output that the new tensor should be.\n",
    "    : return: A 2-D tensor where the second dimension is num_outputs.\n",
    "    \"\"\"\n",
    "    # TODO: Implement Function\n",
    "    curr_shape = x_tensor.shape.as_list()\n",
    "\n",
    "    weights = tf.Variable(tf.truncated_normal([curr_shape[1], num_outputs], stddev=0.1))\n",
    "\n",
    "    bias = tf.Variable(tf.zeros(num_outputs))\n",
    "\n",
    "    out = tf.add(tf.matmul(x_tensor, weights), bias)\n",
    "\n",
    "    return out\n",
    "\n",
    "\n",
    "\"\"\"\n",
    "DON'T MODIFY ANYTHING IN THIS CELL THAT IS BELOW THIS LINE\n",
    "\"\"\"\n",
    "tests.test_output(output)"
   ]
  },
  {
   "cell_type": "markdown",
   "metadata": {},
   "source": [
    "### Create Convolutional Model\n",
    "Implement the function `conv_net` to create a convolutional neural network model. The function takes in a batch of images, `x`, and outputs logits.  Use the layers you created above to create this model:\n",
    "\n",
    "* Apply 1, 2, or 3 Convolution and Max Pool layers\n",
    "* Apply a Flatten Layer\n",
    "* Apply 1, 2, or 3 Fully Connected Layers\n",
    "* Apply an Output Layer\n",
    "* Return the output\n",
    "* Apply [TensorFlow's Dropout](https://www.tensorflow.org/api_docs/python/tf/nn/dropout) to one or more layers in the model using `keep_prob`. "
   ]
  },
  {
   "cell_type": "code",
   "execution_count": 12,
   "metadata": {},
   "outputs": [
    {
     "name": "stdout",
     "output_type": "stream",
     "text": [
      "Neural Network Built!\n"
     ]
    }
   ],
   "source": [
    "def conv_net(x, keep_prob):\n",
    "    \"\"\"\n",
    "    Create a convolutional neural network model\n",
    "    : x: Placeholder tensor that holds image data.\n",
    "    : keep_prob: Placeholder tensor that hold dropout keep probability.\n",
    "    : return: Tensor that represents logits\n",
    "    \"\"\"\n",
    "    # TODO: Apply 1, 2, or 3 Convolution and Max Pool layers\n",
    "    #    Play around with different number of outputs, kernel size and stride\n",
    "    # Function Definition from Above:\n",
    "    #    conv2d_maxpool(x_tensor, conv_num_outputs, conv_ksize, conv_strides, pool_ksize, pool_strides)\n",
    "    \n",
    "    # Layer 1\n",
    "    conv1 = conv2d_maxpool(x_tensor=x,\n",
    "                           conv_num_outputs=20,\n",
    "                           conv_ksize=[7, 7],\n",
    "                           conv_strides=[1, 1],\n",
    "                           pool_ksize=[2, 2],\n",
    "                           pool_strides=[2, 2])\n",
    "    \n",
    "    #conv1 = tf.nn.dropout(conv1, keep_prob)\n",
    "    #conv1 = tf.nn.relu(conv1)\n",
    "    \n",
    "    \n",
    "    # Layer 2\n",
    "    conv2 = conv2d_maxpool(x_tensor=conv1,\n",
    "                           conv_num_outputs=50,\n",
    "                           conv_ksize=[5, 5],\n",
    "                           conv_strides=[1, 1],\n",
    "                           pool_ksize=[2, 2],\n",
    "                           pool_strides=[2, 2])\n",
    "    \n",
    "    #conv2 = tf.nn.dropout(conv2, keep_prob)\n",
    "    #conv2 = tf.nn.relu(conv2)\n",
    "    \n",
    "    # Layer 3\n",
    "\n",
    "    conv3 = conv2d_maxpool(x_tensor=conv2,\n",
    "                           conv_num_outputs=130,\n",
    "                           conv_ksize=[3, 3],\n",
    "                           conv_strides=[1, 1],\n",
    "                           pool_ksize=[2, 2],\n",
    "                           pool_strides=[1, 1])\n",
    "    \n",
    "    conv3 = tf.nn.dropout(conv3, keep_prob)\n",
    "    conv_out = tf.nn.relu(conv3)\n",
    "    \n",
    "    \n",
    "\n",
    "    # TODO: Apply a Flatten Layer\n",
    "    # Function Definition from Above:\n",
    "    #   flatten(x_tensor)\n",
    "    flat = flatten(conv_out)\n",
    "\n",
    "    # TODO: Apply 1, 2, or 3 Fully Connected Layers\n",
    "    #    Play around with different number of outputs\n",
    "    # Function Definition from Above:\n",
    "    #   fully_conn(x_tensor, num_outputs)\n",
    "    fc1 = fully_conn(flat, 100)\n",
    "    fc1 = tf.nn.relu(fc1)\n",
    "    fc1 = tf.nn.dropout(fc1, keep_prob)\n",
    "    \n",
    "    fc2 = fully_conn(fc1, 60)\n",
    "    fc2= tf.nn.relu(fc2)\n",
    "    fc2 = tf.nn.dropout(fc2, keep_prob+0.2)\n",
    "    \n",
    "    fc3 = fully_conn(fc2, 25)\n",
    "    fc3 = tf.nn.relu(fc3)\n",
    "    fc3 = tf.nn.dropout(fc3,keep_prob+0.4)\n",
    "\n",
    "    # TODO: Apply an Output Layer\n",
    "    #    Set this to the number of classes\n",
    "    # Function Definition from Above:\n",
    "    #   output(x_tensor, num_outputs)\n",
    "    out = output(fc3, 10)\n",
    "\n",
    "    # TODO: return output\n",
    "    return out\n",
    "\n",
    "\n",
    "\"\"\"\n",
    "DON'T MODIFY ANYTHING IN THIS CELL THAT IS BELOW THIS LINE\n",
    "\"\"\"\n",
    "\n",
    "##############################\n",
    "## Build the Neural Network ##\n",
    "##############################\n",
    "\n",
    "# Remove previous weights, bias, inputs, etc..\n",
    "tf.reset_default_graph()\n",
    "\n",
    "# Inputs\n",
    "x = neural_net_image_input((32, 32, 3))\n",
    "y = neural_net_label_input(10)\n",
    "keep_prob = neural_net_keep_prob_input()\n",
    "\n",
    "# Model\n",
    "logits = conv_net(x, keep_prob)\n",
    "\n",
    "# Name logits Tensor, so that is can be loaded from disk after training\n",
    "logits = tf.identity(logits, name='logits')\n",
    "\n",
    "# Loss and Optimizer\n",
    "cost = tf.reduce_mean(tf.nn.softmax_cross_entropy_with_logits(logits=logits, labels=y))\n",
    "optimizer = tf.train.AdamOptimizer().minimize(cost)\n",
    "\n",
    "# Accuracy\n",
    "correct_pred = tf.equal(tf.argmax(logits, 1), tf.argmax(y, 1))\n",
    "accuracy = tf.reduce_mean(tf.cast(correct_pred, tf.float32), name='accuracy')\n",
    "\n",
    "tests.test_conv_net(conv_net)"
   ]
  },
  {
   "cell_type": "markdown",
   "metadata": {},
   "source": [
    "## Train the Neural Network\n",
    "### Single Optimization\n",
    "Implement the function `train_neural_network` to do a single optimization.  The optimization should use `optimizer` to optimize in `session` with a `feed_dict` of the following:\n",
    "* `x` for image input\n",
    "* `y` for labels\n",
    "* `keep_prob` for keep probability for dropout\n",
    "\n",
    "This function will be called for each batch, so `tf.global_variables_initializer()` has already been called.\n",
    "\n",
    "Note: Nothing needs to be returned. This function is only optimizing the neural network."
   ]
  },
  {
   "cell_type": "code",
   "execution_count": 13,
   "metadata": {},
   "outputs": [
    {
     "name": "stdout",
     "output_type": "stream",
     "text": [
      "Tests Passed\n"
     ]
    }
   ],
   "source": [
    "def train_neural_network(session, optimizer, keep_probability, feature_batch, label_batch):\n",
    "    \"\"\"\n",
    "    Optimize the session on a batch of images and labels\n",
    "    : session: Current TensorFlow session\n",
    "    : optimizer: TensorFlow optimizer function\n",
    "    : keep_probability: keep probability\n",
    "    : feature_batch: Batch of Numpy image data\n",
    "    : label_batch: Batch of Numpy label data\n",
    "    \"\"\"\n",
    "    session.run(optimizer, feed_dict={\n",
    "        keep_prob: keep_probability,\n",
    "        x: feature_batch,\n",
    "        y: label_batch\n",
    "    })\n",
    "\n",
    "    \n",
    "\n",
    "\"\"\"\n",
    "DON'T MODIFY ANYTHING IN THIS CELL THAT IS BELOW THIS LINE\n",
    "\"\"\"\n",
    "tests.test_train_nn(train_neural_network)"
   ]
  },
  {
   "cell_type": "markdown",
   "metadata": {},
   "source": [
    "### Show Stats\n",
    "Implement the function `print_stats` to print loss and validation accuracy.  Use the global variables `valid_features` and `valid_labels` to calculate validation accuracy.  Use a keep probability of `1.0` to calculate the loss and validation accuracy."
   ]
  },
  {
   "cell_type": "code",
   "execution_count": 14,
   "metadata": {
    "collapsed": true
   },
   "outputs": [],
   "source": [
    "def print_stats(session, feature_batch, label_batch, cost, accuracy):\n",
    "    \"\"\"\n",
    "    Print information about loss and validation accuracy\n",
    "    : session: Current TensorFlow session\n",
    "    : feature_batch: Batch of Numpy image data\n",
    "    : label_batch: Batch of Numpy label data\n",
    "    : cost: TensorFlow cost function\n",
    "    : accuracy: TensorFlow accuracy function\n",
    "    \"\"\"\n",
    "    # TODO: Implement Function\n",
    "    loss = sess.run(cost, feed_dict={\n",
    "        x: feature_batch,\n",
    "        y: label_batch,\n",
    "        keep_prob: 1.\n",
    "    })\n",
    "\n",
    "    valid_acc = sess.run(accuracy, feed_dict={\n",
    "        x: valid_features,\n",
    "        y: valid_labels,\n",
    "        keep_prob: 1.\n",
    "    })\n",
    "\n",
    "    print(\"Loss = {0} - Accuracy = {1}\".format(loss, valid_acc))"
   ]
  },
  {
   "cell_type": "markdown",
   "metadata": {},
   "source": [
    "### Hyperparameters\n",
    "Tune the following parameters:\n",
    "* Set `epochs` to the number of iterations until the network stops learning or start overfitting\n",
    "* Set `batch_size` to the highest number that your machine has memory for.  Most people set them to common sizes of memory:\n",
    " * 64\n",
    " * 128\n",
    " * 256\n",
    " * ...\n",
    "* Set `keep_probability` to the probability of keeping a node using dropout"
   ]
  },
  {
   "cell_type": "code",
   "execution_count": 15,
   "metadata": {
    "collapsed": true
   },
   "outputs": [],
   "source": [
    "# TODO: Tune Parameters\n",
    "epochs = 30\n",
    "batch_size = 128\n",
    "keep_probability = 0.5"
   ]
  },
  {
   "cell_type": "markdown",
   "metadata": {},
   "source": [
    "### Train on a Single CIFAR-10 Batch\n",
    "Instead of training the neural network on all the CIFAR-10 batches of data, let's use a single batch. This should save time while you iterate on the model to get a better accuracy.  Once the final validation accuracy is 50% or greater, run the model on all the data in the next section."
   ]
  },
  {
   "cell_type": "code",
   "execution_count": 16,
   "metadata": {
    "scrolled": true
   },
   "outputs": [
    {
     "name": "stdout",
     "output_type": "stream",
     "text": [
      "Checking the Training on a Single Batch...\n",
      "Epoch  1, CIFAR-10 Batch 1:  Loss = 2.254580020904541 - Accuracy = 0.1581999957561493\n",
      "Epoch  2, CIFAR-10 Batch 1:  Loss = 2.1680116653442383 - Accuracy = 0.2223999947309494\n",
      "Epoch  3, CIFAR-10 Batch 1:  Loss = 2.0335195064544678 - Accuracy = 0.24719998240470886\n",
      "Epoch  4, CIFAR-10 Batch 1:  Loss = 2.0097100734710693 - Accuracy = 0.2856000065803528\n",
      "Epoch  5, CIFAR-10 Batch 1:  Loss = 1.9736049175262451 - Accuracy = 0.2935999929904938\n",
      "Epoch  6, CIFAR-10 Batch 1:  Loss = 1.8277051448822021 - Accuracy = 0.3235999643802643\n",
      "Epoch  7, CIFAR-10 Batch 1:  Loss = 1.7819533348083496 - Accuracy = 0.3625999689102173\n",
      "Epoch  8, CIFAR-10 Batch 1:  Loss = 1.5995128154754639 - Accuracy = 0.38679999113082886\n",
      "Epoch  9, CIFAR-10 Batch 1:  Loss = 1.5355688333511353 - Accuracy = 0.409199982881546\n",
      "Epoch 10, CIFAR-10 Batch 1:  Loss = 1.4569370746612549 - Accuracy = 0.43959999084472656\n",
      "Epoch 11, CIFAR-10 Batch 1:  Loss = 1.4866504669189453 - Accuracy = 0.43759995698928833\n",
      "Epoch 12, CIFAR-10 Batch 1:  Loss = 1.180490255355835 - Accuracy = 0.4845999479293823\n",
      "Epoch 13, CIFAR-10 Batch 1:  Loss = 1.1667141914367676 - Accuracy = 0.47599995136260986\n",
      "Epoch 14, CIFAR-10 Batch 1:  Loss = 1.1218594312667847 - Accuracy = 0.4878000020980835\n",
      "Epoch 15, CIFAR-10 Batch 1:  Loss = 0.9441542625427246 - Accuracy = 0.4925999641418457\n",
      "Epoch 16, CIFAR-10 Batch 1:  Loss = 0.920513391494751 - Accuracy = 0.50819993019104\n",
      "Epoch 17, CIFAR-10 Batch 1:  Loss = 0.9345568418502808 - Accuracy = 0.49559998512268066\n",
      "Epoch 18, CIFAR-10 Batch 1:  Loss = 0.8327128291130066 - Accuracy = 0.5057999491691589\n",
      "Epoch 19, CIFAR-10 Batch 1:  Loss = 0.8104094862937927 - Accuracy = 0.522599995136261\n",
      "Epoch 20, CIFAR-10 Batch 1:  Loss = 0.7551918029785156 - Accuracy = 0.5059999227523804\n",
      "Epoch 21, CIFAR-10 Batch 1:  Loss = 0.7116986513137817 - Accuracy = 0.5289999842643738\n",
      "Epoch 22, CIFAR-10 Batch 1:  Loss = 0.6452533602714539 - Accuracy = 0.53739994764328\n",
      "Epoch 23, CIFAR-10 Batch 1:  Loss = 0.6942446231842041 - Accuracy = 0.5267999172210693\n",
      "Epoch 24, CIFAR-10 Batch 1:  Loss = 0.6076545715332031 - Accuracy = 0.5379999279975891\n",
      "Epoch 25, CIFAR-10 Batch 1:  Loss = 0.5503736734390259 - Accuracy = 0.5543999671936035\n",
      "Epoch 26, CIFAR-10 Batch 1:  Loss = 0.5022786855697632 - Accuracy = 0.5375999808311462\n",
      "Epoch 27, CIFAR-10 Batch 1:  Loss = 0.5194534063339233 - Accuracy = 0.5447999238967896\n",
      "Epoch 28, CIFAR-10 Batch 1:  Loss = 0.5364476442337036 - Accuracy = 0.5589998960494995\n",
      "Epoch 29, CIFAR-10 Batch 1:  Loss = 0.4423304796218872 - Accuracy = 0.5409999489784241\n",
      "Epoch 30, CIFAR-10 Batch 1:  Loss = 0.39473533630371094 - Accuracy = 0.5471999645233154\n"
     ]
    }
   ],
   "source": [
    "\"\"\"\n",
    "DON'T MODIFY ANYTHING IN THIS CELL\n",
    "\"\"\"\n",
    "print('Checking the Training on a Single Batch...')\n",
    "with tf.Session() as sess:\n",
    "    # Initializing the variables\n",
    "    sess.run(tf.global_variables_initializer())\n",
    "    \n",
    "    # Training cycle\n",
    "    for epoch in range(epochs):\n",
    "        batch_i = 1\n",
    "        for batch_features, batch_labels in helper.load_preprocess_training_batch(batch_i, batch_size):\n",
    "            train_neural_network(sess, optimizer, keep_probability, batch_features, batch_labels)\n",
    "        print('Epoch {:>2}, CIFAR-10 Batch {}:  '.format(epoch + 1, batch_i), end='')\n",
    "        print_stats(sess, batch_features, batch_labels, cost, accuracy)"
   ]
  },
  {
   "cell_type": "markdown",
   "metadata": {},
   "source": [
    "### Fully Train the Model\n",
    "Now that you got a good accuracy with a single CIFAR-10 batch, try it with all five batches."
   ]
  },
  {
   "cell_type": "code",
   "execution_count": 17,
   "metadata": {},
   "outputs": [
    {
     "name": "stdout",
     "output_type": "stream",
     "text": [
      "Training...\n",
      "Epoch  1, CIFAR-10 Batch 1:  Loss = 2.280623435974121 - Accuracy = 0.12479999661445618\n",
      "Epoch  1, CIFAR-10 Batch 2:  Loss = 2.31593918800354 - Accuracy = 0.2053999900817871\n",
      "Epoch  1, CIFAR-10 Batch 3:  Loss = 1.9426534175872803 - Accuracy = 0.26319998502731323\n",
      "Epoch  1, CIFAR-10 Batch 4:  Loss = 1.7492951154708862 - Accuracy = 0.32739996910095215\n",
      "Epoch  1, CIFAR-10 Batch 5:  Loss = 1.7901185750961304 - Accuracy = 0.34700000286102295\n",
      "Epoch  2, CIFAR-10 Batch 1:  Loss = 1.8893351554870605 - Accuracy = 0.36879995465278625\n",
      "Epoch  2, CIFAR-10 Batch 2:  Loss = 1.645684003829956 - Accuracy = 0.39319998025894165\n",
      "Epoch  2, CIFAR-10 Batch 3:  Loss = 1.4769434928894043 - Accuracy = 0.3893999457359314\n",
      "Epoch  2, CIFAR-10 Batch 4:  Loss = 1.595475196838379 - Accuracy = 0.4213999807834625\n",
      "Epoch  2, CIFAR-10 Batch 5:  Loss = 1.5682752132415771 - Accuracy = 0.4447999894618988\n",
      "Epoch  3, CIFAR-10 Batch 1:  Loss = 1.5835225582122803 - Accuracy = 0.45079997181892395\n",
      "Epoch  3, CIFAR-10 Batch 2:  Loss = 1.4587537050247192 - Accuracy = 0.4283999800682068\n",
      "Epoch  3, CIFAR-10 Batch 3:  Loss = 1.215562105178833 - Accuracy = 0.4761999845504761\n",
      "Epoch  3, CIFAR-10 Batch 4:  Loss = 1.4409587383270264 - Accuracy = 0.48979994654655457\n",
      "Epoch  3, CIFAR-10 Batch 5:  Loss = 1.362046241760254 - Accuracy = 0.4903999865055084\n",
      "Epoch  4, CIFAR-10 Batch 1:  Loss = 1.3684241771697998 - Accuracy = 0.5083999633789062\n",
      "Epoch  4, CIFAR-10 Batch 2:  Loss = 1.344402551651001 - Accuracy = 0.5213999152183533\n",
      "Epoch  4, CIFAR-10 Batch 3:  Loss = 1.1061427593231201 - Accuracy = 0.5243999361991882\n",
      "Epoch  4, CIFAR-10 Batch 4:  Loss = 1.1630501747131348 - Accuracy = 0.5327999591827393\n",
      "Epoch  4, CIFAR-10 Batch 5:  Loss = 1.2097095251083374 - Accuracy = 0.5341999530792236\n",
      "Epoch  5, CIFAR-10 Batch 1:  Loss = 1.2255398035049438 - Accuracy = 0.5459999442100525\n",
      "Epoch  5, CIFAR-10 Batch 2:  Loss = 1.2322523593902588 - Accuracy = 0.5165998935699463\n",
      "Epoch  5, CIFAR-10 Batch 3:  Loss = 0.9759114980697632 - Accuracy = 0.555199921131134\n",
      "Epoch  5, CIFAR-10 Batch 4:  Loss = 1.0521113872528076 - Accuracy = 0.5731998682022095\n",
      "Epoch  5, CIFAR-10 Batch 5:  Loss = 1.1084680557250977 - Accuracy = 0.5799999237060547\n",
      "Epoch  6, CIFAR-10 Batch 1:  Loss = 1.120530366897583 - Accuracy = 0.5535999536514282\n",
      "Epoch  6, CIFAR-10 Batch 2:  Loss = 1.085179090499878 - Accuracy = 0.586199939250946\n",
      "Epoch  6, CIFAR-10 Batch 3:  Loss = 0.8320590257644653 - Accuracy = 0.5867999196052551\n",
      "Epoch  6, CIFAR-10 Batch 4:  Loss = 0.9564518332481384 - Accuracy = 0.6027998924255371\n",
      "Epoch  6, CIFAR-10 Batch 5:  Loss = 0.9392055869102478 - Accuracy = 0.5981999635696411\n",
      "Epoch  7, CIFAR-10 Batch 1:  Loss = 0.9923012256622314 - Accuracy = 0.5971998572349548\n",
      "Epoch  7, CIFAR-10 Batch 2:  Loss = 0.9089123010635376 - Accuracy = 0.5837998390197754\n",
      "Epoch  7, CIFAR-10 Batch 3:  Loss = 0.8110170364379883 - Accuracy = 0.5899999141693115\n",
      "Epoch  7, CIFAR-10 Batch 4:  Loss = 0.9552459716796875 - Accuracy = 0.6121999025344849\n",
      "Epoch  7, CIFAR-10 Batch 5:  Loss = 0.8701221942901611 - Accuracy = 0.6185998916625977\n",
      "Epoch  8, CIFAR-10 Batch 1:  Loss = 0.9656717777252197 - Accuracy = 0.5871999263763428\n",
      "Epoch  8, CIFAR-10 Batch 2:  Loss = 0.780115008354187 - Accuracy = 0.6071999073028564\n",
      "Epoch  8, CIFAR-10 Batch 3:  Loss = 0.7224907875061035 - Accuracy = 0.6185998916625977\n",
      "Epoch  8, CIFAR-10 Batch 4:  Loss = 0.8023413419723511 - Accuracy = 0.6263998746871948\n",
      "Epoch  8, CIFAR-10 Batch 5:  Loss = 0.8069337606430054 - Accuracy = 0.6337999105453491\n",
      "Epoch  9, CIFAR-10 Batch 1:  Loss = 0.8548462390899658 - Accuracy = 0.6175999045372009\n",
      "Epoch  9, CIFAR-10 Batch 2:  Loss = 0.7369392514228821 - Accuracy = 0.6335998773574829\n",
      "Epoch  9, CIFAR-10 Batch 3:  Loss = 0.6333906650543213 - Accuracy = 0.6175999045372009\n",
      "Epoch  9, CIFAR-10 Batch 4:  Loss = 0.8029686808586121 - Accuracy = 0.6345999240875244\n",
      "Epoch  9, CIFAR-10 Batch 5:  Loss = 0.7234488725662231 - Accuracy = 0.6393998861312866\n",
      "Epoch 10, CIFAR-10 Batch 1:  Loss = 0.7911765575408936 - Accuracy = 0.6271998882293701\n",
      "Epoch 10, CIFAR-10 Batch 2:  Loss = 0.7570664882659912 - Accuracy = 0.6089999675750732\n",
      "Epoch 10, CIFAR-10 Batch 3:  Loss = 0.611972451210022 - Accuracy = 0.6399998664855957\n",
      "Epoch 10, CIFAR-10 Batch 4:  Loss = 0.8363834619522095 - Accuracy = 0.6461999416351318\n",
      "Epoch 10, CIFAR-10 Batch 5:  Loss = 0.7029596567153931 - Accuracy = 0.6549999117851257\n",
      "Epoch 11, CIFAR-10 Batch 1:  Loss = 0.8828365802764893 - Accuracy = 0.6191998720169067\n",
      "Epoch 11, CIFAR-10 Batch 2:  Loss = 0.6325263977050781 - Accuracy = 0.6403998732566833\n",
      "Epoch 11, CIFAR-10 Batch 3:  Loss = 0.627105712890625 - Accuracy = 0.6329998970031738\n",
      "Epoch 11, CIFAR-10 Batch 4:  Loss = 0.7286968231201172 - Accuracy = 0.6589999198913574\n",
      "Epoch 11, CIFAR-10 Batch 5:  Loss = 0.6127116084098816 - Accuracy = 0.6525998711585999\n",
      "Epoch 12, CIFAR-10 Batch 1:  Loss = 0.7363481521606445 - Accuracy = 0.6515998840332031\n",
      "Epoch 12, CIFAR-10 Batch 2:  Loss = 0.6235559582710266 - Accuracy = 0.6563999056816101\n",
      "Epoch 12, CIFAR-10 Batch 3:  Loss = 0.463509202003479 - Accuracy = 0.6619998812675476\n",
      "Epoch 12, CIFAR-10 Batch 4:  Loss = 0.6669872999191284 - Accuracy = 0.6583999395370483\n",
      "Epoch 12, CIFAR-10 Batch 5:  Loss = 0.5116045475006104 - Accuracy = 0.6657998561859131\n",
      "Epoch 13, CIFAR-10 Batch 1:  Loss = 0.6482534408569336 - Accuracy = 0.6637998819351196\n",
      "Epoch 13, CIFAR-10 Batch 2:  Loss = 0.5803893804550171 - Accuracy = 0.668799877166748\n",
      "Epoch 13, CIFAR-10 Batch 3:  Loss = 0.4847504496574402 - Accuracy = 0.6665998697280884\n",
      "Epoch 13, CIFAR-10 Batch 4:  Loss = 0.592443585395813 - Accuracy = 0.6715998649597168\n",
      "Epoch 13, CIFAR-10 Batch 5:  Loss = 0.5071618556976318 - Accuracy = 0.6707997918128967\n",
      "Epoch 14, CIFAR-10 Batch 1:  Loss = 0.5699543356895447 - Accuracy = 0.6693998575210571\n",
      "Epoch 14, CIFAR-10 Batch 2:  Loss = 0.5640898942947388 - Accuracy = 0.6653999090194702\n",
      "Epoch 14, CIFAR-10 Batch 3:  Loss = 0.3956981301307678 - Accuracy = 0.6619998812675476\n",
      "Epoch 14, CIFAR-10 Batch 4:  Loss = 0.6357986927032471 - Accuracy = 0.6751998662948608\n",
      "Epoch 14, CIFAR-10 Batch 5:  Loss = 0.48134511709213257 - Accuracy = 0.6743998527526855\n",
      "Epoch 15, CIFAR-10 Batch 1:  Loss = 0.5161704421043396 - Accuracy = 0.6785998940467834\n",
      "Epoch 15, CIFAR-10 Batch 2:  Loss = 0.5253247022628784 - Accuracy = 0.6607998609542847\n",
      "Epoch 15, CIFAR-10 Batch 3:  Loss = 0.38371679186820984 - Accuracy = 0.6675999164581299\n",
      "Epoch 15, CIFAR-10 Batch 4:  Loss = 0.500720739364624 - Accuracy = 0.674799919128418\n",
      "Epoch 15, CIFAR-10 Batch 5:  Loss = 0.5105008482933044 - Accuracy = 0.6723998785018921\n",
      "Epoch 16, CIFAR-10 Batch 1:  Loss = 0.509655773639679 - Accuracy = 0.6677998900413513\n",
      "Epoch 16, CIFAR-10 Batch 2:  Loss = 0.5174224376678467 - Accuracy = 0.6635999083518982\n",
      "Epoch 16, CIFAR-10 Batch 3:  Loss = 0.34419578313827515 - Accuracy = 0.6985998153686523\n",
      "Epoch 16, CIFAR-10 Batch 4:  Loss = 0.49413010478019714 - Accuracy = 0.6823998689651489\n",
      "Epoch 16, CIFAR-10 Batch 5:  Loss = 0.3739990293979645 - Accuracy = 0.6857998371124268\n",
      "Epoch 17, CIFAR-10 Batch 1:  Loss = 0.5297138690948486 - Accuracy = 0.6659998893737793\n",
      "Epoch 17, CIFAR-10 Batch 2:  Loss = 0.5537669658660889 - Accuracy = 0.679399847984314\n",
      "Epoch 17, CIFAR-10 Batch 3:  Loss = 0.34386491775512695 - Accuracy = 0.6757998466491699\n",
      "Epoch 17, CIFAR-10 Batch 4:  Loss = 0.49934929609298706 - Accuracy = 0.6797999143600464\n",
      "Epoch 17, CIFAR-10 Batch 5:  Loss = 0.36102011799812317 - Accuracy = 0.6951999068260193\n",
      "Epoch 18, CIFAR-10 Batch 1:  Loss = 0.4716480076313019 - Accuracy = 0.6881998181343079\n",
      "Epoch 18, CIFAR-10 Batch 2:  Loss = 0.47595831751823425 - Accuracy = 0.6865999102592468\n",
      "Epoch 18, CIFAR-10 Batch 3:  Loss = 0.3254859447479248 - Accuracy = 0.6973998546600342\n",
      "Epoch 18, CIFAR-10 Batch 4:  Loss = 0.46416324377059937 - Accuracy = 0.6967998743057251\n",
      "Epoch 18, CIFAR-10 Batch 5:  Loss = 0.3940902352333069 - Accuracy = 0.6839998960494995\n",
      "Epoch 19, CIFAR-10 Batch 1:  Loss = 0.4455019235610962 - Accuracy = 0.6803998947143555\n",
      "Epoch 19, CIFAR-10 Batch 2:  Loss = 0.41083231568336487 - Accuracy = 0.6945998072624207\n",
      "Epoch 19, CIFAR-10 Batch 3:  Loss = 0.306418240070343 - Accuracy = 0.6955998539924622\n",
      "Epoch 19, CIFAR-10 Batch 4:  Loss = 0.43002551794052124 - Accuracy = 0.6949999332427979\n"
     ]
    },
    {
     "name": "stdout",
     "output_type": "stream",
     "text": [
      "Epoch 19, CIFAR-10 Batch 5:  Loss = 0.3940905034542084 - Accuracy = 0.6861998438835144\n",
      "Epoch 20, CIFAR-10 Batch 1:  Loss = 0.384470134973526 - Accuracy = 0.6937998533248901\n",
      "Epoch 20, CIFAR-10 Batch 2:  Loss = 0.4099804759025574 - Accuracy = 0.6965998411178589\n",
      "Epoch 20, CIFAR-10 Batch 3:  Loss = 0.2760286033153534 - Accuracy = 0.6897999048233032\n",
      "Epoch 20, CIFAR-10 Batch 4:  Loss = 0.5309815406799316 - Accuracy = 0.6955997943878174\n",
      "Epoch 20, CIFAR-10 Batch 5:  Loss = 0.3690984547138214 - Accuracy = 0.6999999284744263\n",
      "Epoch 21, CIFAR-10 Batch 1:  Loss = 0.3725561499595642 - Accuracy = 0.7049998641014099\n",
      "Epoch 21, CIFAR-10 Batch 2:  Loss = 0.3563252389431 - Accuracy = 0.6957998871803284\n",
      "Epoch 21, CIFAR-10 Batch 3:  Loss = 0.28258514404296875 - Accuracy = 0.6911998987197876\n",
      "Epoch 21, CIFAR-10 Batch 4:  Loss = 0.40103569626808167 - Accuracy = 0.6921998262405396\n",
      "Epoch 21, CIFAR-10 Batch 5:  Loss = 0.2594907581806183 - Accuracy = 0.6993998289108276\n",
      "Epoch 22, CIFAR-10 Batch 1:  Loss = 0.36701130867004395 - Accuracy = 0.6989998817443848\n",
      "Epoch 22, CIFAR-10 Batch 2:  Loss = 0.32576239109039307 - Accuracy = 0.696199893951416\n",
      "Epoch 22, CIFAR-10 Batch 3:  Loss = 0.23833848536014557 - Accuracy = 0.7059998512268066\n",
      "Epoch 22, CIFAR-10 Batch 4:  Loss = 0.4157254099845886 - Accuracy = 0.68479984998703\n",
      "Epoch 22, CIFAR-10 Batch 5:  Loss = 0.2727474570274353 - Accuracy = 0.7061998248100281\n",
      "Epoch 23, CIFAR-10 Batch 1:  Loss = 0.32394081354141235 - Accuracy = 0.7117998600006104\n",
      "Epoch 23, CIFAR-10 Batch 2:  Loss = 0.33600595593452454 - Accuracy = 0.7049998641014099\n",
      "Epoch 23, CIFAR-10 Batch 3:  Loss = 0.20248493552207947 - Accuracy = 0.7049998641014099\n",
      "Epoch 23, CIFAR-10 Batch 4:  Loss = 0.39606964588165283 - Accuracy = 0.6939998865127563\n",
      "Epoch 23, CIFAR-10 Batch 5:  Loss = 0.2879675030708313 - Accuracy = 0.7001998424530029\n",
      "Epoch 24, CIFAR-10 Batch 1:  Loss = 0.3285883367061615 - Accuracy = 0.7055999040603638\n",
      "Epoch 24, CIFAR-10 Batch 2:  Loss = 0.3532159626483917 - Accuracy = 0.7059998512268066\n",
      "Epoch 24, CIFAR-10 Batch 3:  Loss = 0.23655855655670166 - Accuracy = 0.6915998458862305\n",
      "Epoch 24, CIFAR-10 Batch 4:  Loss = 0.33657175302505493 - Accuracy = 0.6995998620986938\n",
      "Epoch 24, CIFAR-10 Batch 5:  Loss = 0.22407419979572296 - Accuracy = 0.7075998187065125\n",
      "Epoch 25, CIFAR-10 Batch 1:  Loss = 0.28607484698295593 - Accuracy = 0.7071998715400696\n",
      "Epoch 25, CIFAR-10 Batch 2:  Loss = 0.327762246131897 - Accuracy = 0.7049998641014099\n",
      "Epoch 25, CIFAR-10 Batch 3:  Loss = 0.23358118534088135 - Accuracy = 0.6879998445510864\n",
      "Epoch 25, CIFAR-10 Batch 4:  Loss = 0.3099006712436676 - Accuracy = 0.7051998376846313\n",
      "Epoch 25, CIFAR-10 Batch 5:  Loss = 0.1807728260755539 - Accuracy = 0.700999915599823\n",
      "Epoch 26, CIFAR-10 Batch 1:  Loss = 0.306169331073761 - Accuracy = 0.7013998627662659\n",
      "Epoch 26, CIFAR-10 Batch 2:  Loss = 0.3076302707195282 - Accuracy = 0.6997998952865601\n",
      "Epoch 26, CIFAR-10 Batch 3:  Loss = 0.23901678621768951 - Accuracy = 0.6951998472213745\n",
      "Epoch 26, CIFAR-10 Batch 4:  Loss = 0.27505242824554443 - Accuracy = 0.7157998085021973\n",
      "Epoch 26, CIFAR-10 Batch 5:  Loss = 0.1991514265537262 - Accuracy = 0.7063998579978943\n",
      "Epoch 27, CIFAR-10 Batch 1:  Loss = 0.2658974230289459 - Accuracy = 0.7007998824119568\n",
      "Epoch 27, CIFAR-10 Batch 2:  Loss = 0.27561163902282715 - Accuracy = 0.7047998905181885\n",
      "Epoch 27, CIFAR-10 Batch 3:  Loss = 0.22210611402988434 - Accuracy = 0.6993998885154724\n",
      "Epoch 27, CIFAR-10 Batch 4:  Loss = 0.29855048656463623 - Accuracy = 0.7049998044967651\n",
      "Epoch 27, CIFAR-10 Batch 5:  Loss = 0.18129757046699524 - Accuracy = 0.7091999053955078\n",
      "Epoch 28, CIFAR-10 Batch 1:  Loss = 0.2999294102191925 - Accuracy = 0.7089998722076416\n",
      "Epoch 28, CIFAR-10 Batch 2:  Loss = 0.3244688808917999 - Accuracy = 0.7011998295783997\n",
      "Epoch 28, CIFAR-10 Batch 3:  Loss = 0.16099990904331207 - Accuracy = 0.7061998844146729\n",
      "Epoch 28, CIFAR-10 Batch 4:  Loss = 0.3057917654514313 - Accuracy = 0.7143999338150024\n",
      "Epoch 28, CIFAR-10 Batch 5:  Loss = 0.2020089030265808 - Accuracy = 0.7097998261451721\n",
      "Epoch 29, CIFAR-10 Batch 1:  Loss = 0.2689041793346405 - Accuracy = 0.7117998003959656\n",
      "Epoch 29, CIFAR-10 Batch 2:  Loss = 0.2641173005104065 - Accuracy = 0.7087998390197754\n",
      "Epoch 29, CIFAR-10 Batch 3:  Loss = 0.19263902306556702 - Accuracy = 0.7037999033927917\n",
      "Epoch 29, CIFAR-10 Batch 4:  Loss = 0.25858789682388306 - Accuracy = 0.7143998146057129\n",
      "Epoch 29, CIFAR-10 Batch 5:  Loss = 0.1884010136127472 - Accuracy = 0.6945999264717102\n",
      "Epoch 30, CIFAR-10 Batch 1:  Loss = 0.297212153673172 - Accuracy = 0.7213998436927795\n",
      "Epoch 30, CIFAR-10 Batch 2:  Loss = 0.2779216766357422 - Accuracy = 0.70579993724823\n",
      "Epoch 30, CIFAR-10 Batch 3:  Loss = 0.15309211611747742 - Accuracy = 0.7131998538970947\n",
      "Epoch 30, CIFAR-10 Batch 4:  Loss = 0.23840469121932983 - Accuracy = 0.7087998390197754\n",
      "Epoch 30, CIFAR-10 Batch 5:  Loss = 0.1622420996427536 - Accuracy = 0.7067998647689819\n"
     ]
    }
   ],
   "source": [
    "\"\"\"\n",
    "DON'T MODIFY ANYTHING IN THIS CELL\n",
    "\"\"\"\n",
    "save_model_path = './image_classification'\n",
    "\n",
    "print('Training...')\n",
    "with tf.Session() as sess:\n",
    "    # Initializing the variables\n",
    "    sess.run(tf.global_variables_initializer())\n",
    "    \n",
    "    # Training cycle\n",
    "    for epoch in range(epochs):\n",
    "        # Loop over all batches\n",
    "        n_batches = 5\n",
    "        for batch_i in range(1, n_batches + 1):\n",
    "            for batch_features, batch_labels in helper.load_preprocess_training_batch(batch_i, batch_size):\n",
    "                train_neural_network(sess, optimizer, keep_probability, batch_features, batch_labels)\n",
    "            print('Epoch {:>2}, CIFAR-10 Batch {}:  '.format(epoch + 1, batch_i), end='')\n",
    "            print_stats(sess, batch_features, batch_labels, cost, accuracy)\n",
    "            \n",
    "    # Save Model\n",
    "    saver = tf.train.Saver()\n",
    "    save_path = saver.save(sess, save_model_path)"
   ]
  },
  {
   "cell_type": "markdown",
   "metadata": {},
   "source": [
    "# Checkpoint\n",
    "The model has been saved to disk.\n",
    "## Test Model\n",
    "Test your model against the test dataset.  This will be your final accuracy. You should have an accuracy greater than 50%. If you don't, keep tweaking the model architecture and parameters."
   ]
  },
  {
   "cell_type": "code",
   "execution_count": 18,
   "metadata": {},
   "outputs": [
    {
     "name": "stdout",
     "output_type": "stream",
     "text": [
      "INFO:tensorflow:Restoring parameters from ./image_classification\n",
      "Testing Accuracy: 0.7012460443037974\n",
      "\n"
     ]
    },
    {
     "data": {
      "image/png": "[encoded data removed]",
      "text/plain": [
       "<matplotlib.figure.Figure at 0x7f175c01c7b8>"
      ]
     },
     "metadata": {
      "image/png": {
       "height": 319,
       "width": 355
      }
     },
     "output_type": "display_data"
    }
   ],
   "source": [
    "\"\"\"\n",
    "DON'T MODIFY ANYTHING IN THIS CELL\n",
    "\"\"\"\n",
    "%matplotlib inline\n",
    "%config InlineBackend.figure_format = 'retina'\n",
    "\n",
    "import tensorflow as tf\n",
    "import pickle\n",
    "import helper\n",
    "import random\n",
    "\n",
    "# Set batch size if not already set\n",
    "try:\n",
    "    if batch_size:\n",
    "        pass\n",
    "except NameError:\n",
    "    batch_size = 64\n",
    "\n",
    "save_model_path = './image_classification'\n",
    "n_samples = 4\n",
    "top_n_predictions = 3\n",
    "\n",
    "def test_model():\n",
    "    \"\"\"\n",
    "    Test the saved model against the test dataset\n",
    "    \"\"\"\n",
    "\n",
    "    test_features, test_labels = pickle.load(open('preprocess_training.p', mode='rb'))\n",
    "    loaded_graph = tf.Graph()\n",
    "\n",
    "    with tf.Session(graph=loaded_graph) as sess:\n",
    "        # Load model\n",
    "        loader = tf.train.import_meta_graph(save_model_path + '.meta')\n",
    "        loader.restore(sess, save_model_path)\n",
    "\n",
    "        # Get Tensors from loaded model\n",
    "        loaded_x = loaded_graph.get_tensor_by_name('x:0')\n",
    "        loaded_y = loaded_graph.get_tensor_by_name('y:0')\n",
    "        loaded_keep_prob = loaded_graph.get_tensor_by_name('keep_prob:0')\n",
    "        loaded_logits = loaded_graph.get_tensor_by_name('logits:0')\n",
    "        loaded_acc = loaded_graph.get_tensor_by_name('accuracy:0')\n",
    "        \n",
    "        # Get accuracy in batches for memory limitations\n",
    "        test_batch_acc_total = 0\n",
    "        test_batch_count = 0\n",
    "        \n",
    "        for train_feature_batch, train_label_batch in helper.batch_features_labels(test_features, test_labels, batch_size):\n",
    "            test_batch_acc_total += sess.run(\n",
    "                loaded_acc,\n",
    "                feed_dict={loaded_x: train_feature_batch, loaded_y: train_label_batch, loaded_keep_prob: 1.0})\n",
    "            test_batch_count += 1\n",
    "\n",
    "        print('Testing Accuracy: {}\\n'.format(test_batch_acc_total/test_batch_count))\n",
    "\n",
    "        # Print Random Samples\n",
    "        random_test_features, random_test_labels = tuple(zip(*random.sample(list(zip(test_features, test_labels)), n_samples)))\n",
    "        random_test_predictions = sess.run(\n",
    "            tf.nn.top_k(tf.nn.softmax(loaded_logits), top_n_predictions),\n",
    "            feed_dict={loaded_x: random_test_features, loaded_y: random_test_labels, loaded_keep_prob: 1.0})\n",
    "        helper.display_image_predictions(random_test_features, random_test_labels, random_test_predictions)\n",
    "\n",
    "\n",
    "test_model()"
   ]
  },
  {
   "cell_type": "markdown",
   "metadata": {},
   "source": [
    "## Why 50-70% Accuracy?\n",
    "You might be wondering why you can't get an accuracy any higher. First things first, 50% isn't bad for a simple CNN.  Pure guessing would get you 10% accuracy. However, you might notice people are getting scores [well above 70%](http://rodrigob.github.io/are_we_there_yet/build/classification_datasets_results.html#43494641522d3130).  That's because we haven't taught you all there is to know about neural networks. We still need to cover a few more techniques.\n",
    "## Submitting This Project\n",
    "When submitting this project, make sure to run all the cells before saving the notebook.  Save the notebook file as \"dlnd_image_classification.ipynb\" and save it as a HTML file under \"File\" -> \"Download as\".  Include the \"helper.py\" and \"problem_unittests.py\" files in your submission."
   ]
  }
 ],
 "metadata": {
  "kernelspec": {
   "display_name": "Python 3",
   "language": "python",
   "name": "python3"
  },
  "language_info": {
   "codemirror_mode": {
    "name": "ipython",
    "version": 3
   },
   "file_extension": ".py",
   "mimetype": "text/x-python",
   "name": "python",
   "nbconvert_exporter": "python",
   "pygments_lexer": "ipython3",
   "version": "3.5.3"
  }
 },
 "nbformat": 4,
 "nbformat_minor": 1
}
